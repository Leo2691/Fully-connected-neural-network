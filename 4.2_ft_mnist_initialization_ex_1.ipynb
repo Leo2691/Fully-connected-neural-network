{
 "cells": [
  {
   "cell_type": "code",
   "execution_count": 19,
   "metadata": {},
   "outputs": [],
   "source": [
    "from tensorflow.keras import initializers\n",
    "\n",
    "from tensorflow.keras.models import Sequential\n",
    "from tensorflow.keras.layers import Dense"
   ]
  },
  {
   "cell_type": "code",
   "execution_count": 18,
   "metadata": {},
   "outputs": [],
   "source": [
    "Dense?"
   ]
  },
  {
   "cell_type": "code",
   "execution_count": 10,
   "metadata": {},
   "outputs": [],
   "source": [
    "from keras.datasets import mnist\n",
    "\n",
    "(x_train, y_train), (x_test, y_test) = mnist.load_data()\n",
    "x_train, x_test = x_train / 255.0, x_test / 255.0"
   ]
  },
  {
   "cell_type": "code",
   "execution_count": 20,
   "metadata": {},
   "outputs": [],
   "source": [
    "# one hot encoding mnist\n",
    "from keras.utils import np_utils\n",
    "Y_train = np_utils.to_categorical(y_train, 10)\n",
    "Y_test = np_utils.to_categorical(y_test, 10)"
   ]
  },
  {
   "cell_type": "code",
   "execution_count": 21,
   "metadata": {},
   "outputs": [],
   "source": [
    "x_train = x_train.reshape(x_train.shape[0], 784)\n",
    "x_test  = x_test.reshape(x_test.shape[0], 784)"
   ]
  },
  {
   "cell_type": "code",
   "execution_count": 22,
   "metadata": {},
   "outputs": [],
   "source": [
    "def create_model(init):\n",
    "    model = Sequential()\n",
    "    model.add(Dense(100, input_shape = (28*28,), kernel_initializer=init, activation='tanh'))\n",
    "    model.add(Dense(100, kernel_initializer=init, activation='tanh'))\n",
    "    model.add(Dense(100, kernel_initializer=init, activation='tanh'))\n",
    "    model.add(Dense(100, kernel_initializer=init, activation='tanh'))\n",
    "    model.add(Dense(10,  kernel_initializer=init, activation='softmax'))\n",
    "    return model"
   ]
  },
  {
   "cell_type": "code",
   "execution_count": 23,
   "metadata": {},
   "outputs": [],
   "source": [
    "# model 1 with uniform initialization\n",
    "uniform_model = create_model(\"uniform\")"
   ]
  },
  {
   "cell_type": "code",
   "execution_count": 24,
   "metadata": {},
   "outputs": [
    {
     "name": "stderr",
     "output_type": "stream",
     "text": [
      "WARNING: Logging before flag parsing goes to stderr.\n",
      "W0531 00:39:46.047772 4687150528 training.py:701] The `nb_epoch` argument in `fit` has been renamed `epochs`.\n"
     ]
    },
    {
     "name": "stdout",
     "output_type": "stream",
     "text": [
      "Train on 60000 samples, validate on 10000 samples\n",
      "Epoch 1/30\n",
      "60000/60000 [==============================] - 3s 47us/sample - loss: 2.3007 - accuracy: 0.1135 - val_loss: 2.2986 - val_accuracy: 0.1135\n",
      "Epoch 2/30\n",
      "60000/60000 [==============================] - 2s 34us/sample - loss: 2.2961 - accuracy: 0.1124 - val_loss: 2.2915 - val_accuracy: 0.1135\n",
      "Epoch 3/30\n",
      "60000/60000 [==============================] - 2s 36us/sample - loss: 2.2625 - accuracy: 0.2076 - val_loss: 2.1309 - val_accuracy: 0.2577\n",
      "Epoch 4/30\n",
      "60000/60000 [==============================] - 2s 36us/sample - loss: 1.7222 - accuracy: 0.3183 - val_loss: 1.3787 - val_accuracy: 0.4335\n",
      "Epoch 5/30\n",
      "60000/60000 [==============================] - 2s 37us/sample - loss: 1.2444 - accuracy: 0.5079 - val_loss: 1.1291 - val_accuracy: 0.5867\n",
      "Epoch 6/30\n",
      "60000/60000 [==============================] - 2s 35us/sample - loss: 1.0017 - accuracy: 0.6612 - val_loss: 0.8259 - val_accuracy: 0.7568\n",
      "Epoch 7/30\n",
      "60000/60000 [==============================] - 2s 36us/sample - loss: 0.6918 - accuracy: 0.7986 - val_loss: 0.5590 - val_accuracy: 0.8457\n",
      "Epoch 8/30\n",
      "60000/60000 [==============================] - 2s 36us/sample - loss: 0.5004 - accuracy: 0.8613 - val_loss: 0.4339 - val_accuracy: 0.8817\n",
      "Epoch 9/30\n",
      "60000/60000 [==============================] - 2s 36us/sample - loss: 0.4100 - accuracy: 0.8862 - val_loss: 0.3766 - val_accuracy: 0.8983\n",
      "Epoch 10/30\n",
      "60000/60000 [==============================] - 2s 36us/sample - loss: 0.3592 - accuracy: 0.9001 - val_loss: 0.3384 - val_accuracy: 0.9071\n",
      "Epoch 11/30\n",
      "60000/60000 [==============================] - 2s 37us/sample - loss: 0.3233 - accuracy: 0.9105 - val_loss: 0.3179 - val_accuracy: 0.9144\n",
      "Epoch 12/30\n",
      "60000/60000 [==============================] - 2s 37us/sample - loss: 0.2947 - accuracy: 0.9191 - val_loss: 0.2840 - val_accuracy: 0.9208\n",
      "Epoch 13/30\n",
      "60000/60000 [==============================] - 2s 37us/sample - loss: 0.2699 - accuracy: 0.9255 - val_loss: 0.2678 - val_accuracy: 0.9245\n",
      "Epoch 14/30\n",
      "60000/60000 [==============================] - 2s 36us/sample - loss: 0.2491 - accuracy: 0.9311 - val_loss: 0.2452 - val_accuracy: 0.9315\n",
      "Epoch 15/30\n",
      "60000/60000 [==============================] - 2s 36us/sample - loss: 0.2299 - accuracy: 0.9372 - val_loss: 0.2353 - val_accuracy: 0.9333\n",
      "Epoch 16/30\n",
      "60000/60000 [==============================] - 2s 36us/sample - loss: 0.2127 - accuracy: 0.9408 - val_loss: 0.2732 - val_accuracy: 0.9184\n",
      "Epoch 17/30\n",
      "60000/60000 [==============================] - 2s 36us/sample - loss: 0.1968 - accuracy: 0.9459 - val_loss: 0.2187 - val_accuracy: 0.9381\n",
      "Epoch 18/30\n",
      "60000/60000 [==============================] - 2s 36us/sample - loss: 0.1836 - accuracy: 0.9493 - val_loss: 0.1978 - val_accuracy: 0.9447\n",
      "Epoch 19/30\n",
      "60000/60000 [==============================] - 2s 36us/sample - loss: 0.1713 - accuracy: 0.9521 - val_loss: 0.1869 - val_accuracy: 0.9473\n",
      "Epoch 20/30\n",
      "60000/60000 [==============================] - 2s 36us/sample - loss: 0.1601 - accuracy: 0.9547 - val_loss: 0.1753 - val_accuracy: 0.9501\n",
      "Epoch 21/30\n",
      "60000/60000 [==============================] - 2s 36us/sample - loss: 0.1504 - accuracy: 0.9577 - val_loss: 0.1796 - val_accuracy: 0.9494\n",
      "Epoch 22/30\n",
      "60000/60000 [==============================] - 2s 36us/sample - loss: 0.1412 - accuracy: 0.9608 - val_loss: 0.1605 - val_accuracy: 0.9537\n",
      "Epoch 23/30\n",
      "60000/60000 [==============================] - 2s 36us/sample - loss: 0.1335 - accuracy: 0.9618 - val_loss: 0.1554 - val_accuracy: 0.9544\n",
      "Epoch 24/30\n",
      "60000/60000 [==============================] - 2s 36us/sample - loss: 0.1258 - accuracy: 0.9640 - val_loss: 0.1720 - val_accuracy: 0.9492\n",
      "Epoch 25/30\n",
      "60000/60000 [==============================] - 2s 36us/sample - loss: 0.1195 - accuracy: 0.9657 - val_loss: 0.1450 - val_accuracy: 0.9569\n",
      "Epoch 26/30\n",
      "60000/60000 [==============================] - 2s 36us/sample - loss: 0.1136 - accuracy: 0.9680 - val_loss: 0.1489 - val_accuracy: 0.9565\n",
      "Epoch 27/30\n",
      "60000/60000 [==============================] - 2s 36us/sample - loss: 0.1076 - accuracy: 0.9690 - val_loss: 0.1399 - val_accuracy: 0.9569\n",
      "Epoch 28/30\n",
      "60000/60000 [==============================] - 2s 36us/sample - loss: 0.1028 - accuracy: 0.9705 - val_loss: 0.1318 - val_accuracy: 0.9608\n",
      "Epoch 29/30\n",
      "60000/60000 [==============================] - 2s 36us/sample - loss: 0.0976 - accuracy: 0.9721 - val_loss: 0.1324 - val_accuracy: 0.9595\n",
      "Epoch 30/30\n",
      "60000/60000 [==============================] - 2s 36us/sample - loss: 0.0930 - accuracy: 0.9732 - val_loss: 0.1328 - val_accuracy: 0.9589\n"
     ]
    },
    {
     "data": {
      "text/plain": [
       "<tensorflow.python.keras.callbacks.History at 0x15cbce278>"
      ]
     },
     "execution_count": 24,
     "metadata": {},
     "output_type": "execute_result"
    }
   ],
   "source": [
    "uniform_model.compile(loss='categorical_crossentropy', optimizer='sgd', metrics=['accuracy'])\n",
    "uniform_model.fit(x_train, Y_train,\n",
    "                 batch_size=64, nb_epoch=30, verbose=1, validation_data=(x_test, Y_test))"
   ]
  },
  {
   "cell_type": "code",
   "execution_count": 25,
   "metadata": {},
   "outputs": [],
   "source": [
    "# model 1 with uniform initialization\n",
    "glorot_model = create_model(\"glorot_normal\")"
   ]
  },
  {
   "cell_type": "code",
   "execution_count": 26,
   "metadata": {},
   "outputs": [
    {
     "name": "stderr",
     "output_type": "stream",
     "text": [
      "W0531 00:41:18.284829 4687150528 training.py:701] The `nb_epoch` argument in `fit` has been renamed `epochs`.\n"
     ]
    },
    {
     "name": "stdout",
     "output_type": "stream",
     "text": [
      "Train on 60000 samples, validate on 10000 samples\n",
      "Epoch 1/30\n",
      "60000/60000 [==============================] - 3s 47us/sample - loss: 0.7419 - accuracy: 0.8091 - val_loss: 0.3906 - val_accuracy: 0.8940\n",
      "Epoch 2/30\n",
      "60000/60000 [==============================] - 2s 36us/sample - loss: 0.3502 - accuracy: 0.9015 - val_loss: 0.2995 - val_accuracy: 0.9152\n",
      "Epoch 3/30\n",
      "60000/60000 [==============================] - 2s 37us/sample - loss: 0.2911 - accuracy: 0.9161 - val_loss: 0.2633 - val_accuracy: 0.9253\n",
      "Epoch 4/30\n",
      "60000/60000 [==============================] - 2s 37us/sample - loss: 0.2574 - accuracy: 0.9252 - val_loss: 0.2376 - val_accuracy: 0.9318\n",
      "Epoch 5/30\n",
      "60000/60000 [==============================] - 2s 39us/sample - loss: 0.2330 - accuracy: 0.9320 - val_loss: 0.2181 - val_accuracy: 0.9363\n",
      "Epoch 6/30\n",
      "60000/60000 [==============================] - 2s 36us/sample - loss: 0.2125 - accuracy: 0.9383 - val_loss: 0.2034 - val_accuracy: 0.9408\n",
      "Epoch 7/30\n",
      "60000/60000 [==============================] - 2s 36us/sample - loss: 0.1949 - accuracy: 0.9433 - val_loss: 0.1892 - val_accuracy: 0.9456\n",
      "Epoch 8/30\n",
      "60000/60000 [==============================] - 2s 36us/sample - loss: 0.1799 - accuracy: 0.9484 - val_loss: 0.1737 - val_accuracy: 0.9505\n",
      "Epoch 9/30\n",
      "60000/60000 [==============================] - 2s 37us/sample - loss: 0.1668 - accuracy: 0.9520 - val_loss: 0.1662 - val_accuracy: 0.9529\n",
      "Epoch 10/30\n",
      "60000/60000 [==============================] - 2s 37us/sample - loss: 0.1550 - accuracy: 0.9555 - val_loss: 0.1568 - val_accuracy: 0.9549\n",
      "Epoch 11/30\n",
      "60000/60000 [==============================] - 2s 34us/sample - loss: 0.1449 - accuracy: 0.9577 - val_loss: 0.1480 - val_accuracy: 0.9565\n",
      "Epoch 12/30\n",
      "60000/60000 [==============================] - 2s 34us/sample - loss: 0.1356 - accuracy: 0.9607 - val_loss: 0.1389 - val_accuracy: 0.9581\n",
      "Epoch 13/30\n",
      "60000/60000 [==============================] - 2s 34us/sample - loss: 0.1277 - accuracy: 0.9629 - val_loss: 0.1359 - val_accuracy: 0.9587\n",
      "Epoch 14/30\n",
      "60000/60000 [==============================] - 2s 34us/sample - loss: 0.1203 - accuracy: 0.9653 - val_loss: 0.1277 - val_accuracy: 0.9613\n",
      "Epoch 15/30\n",
      "60000/60000 [==============================] - 2s 34us/sample - loss: 0.1135 - accuracy: 0.9670 - val_loss: 0.1231 - val_accuracy: 0.9633\n",
      "Epoch 16/30\n",
      "60000/60000 [==============================] - 2s 34us/sample - loss: 0.1073 - accuracy: 0.9690 - val_loss: 0.1178 - val_accuracy: 0.9638\n",
      "Epoch 17/30\n",
      "60000/60000 [==============================] - 2s 34us/sample - loss: 0.1020 - accuracy: 0.9706 - val_loss: 0.1164 - val_accuracy: 0.9649\n",
      "Epoch 18/30\n",
      "60000/60000 [==============================] - 2s 34us/sample - loss: 0.0969 - accuracy: 0.9720 - val_loss: 0.1152 - val_accuracy: 0.9662\n",
      "Epoch 19/30\n",
      "60000/60000 [==============================] - 2s 36us/sample - loss: 0.0923 - accuracy: 0.9733 - val_loss: 0.1079 - val_accuracy: 0.9672\n",
      "Epoch 20/30\n",
      "60000/60000 [==============================] - 2s 37us/sample - loss: 0.0880 - accuracy: 0.9749 - val_loss: 0.1065 - val_accuracy: 0.9653\n",
      "Epoch 21/30\n",
      "60000/60000 [==============================] - 2s 37us/sample - loss: 0.0841 - accuracy: 0.9759 - val_loss: 0.1038 - val_accuracy: 0.9669\n",
      "Epoch 22/30\n",
      "60000/60000 [==============================] - 2s 37us/sample - loss: 0.0800 - accuracy: 0.9771 - val_loss: 0.1023 - val_accuracy: 0.9680\n",
      "Epoch 23/30\n",
      "60000/60000 [==============================] - 3s 42us/sample - loss: 0.0769 - accuracy: 0.9782 - val_loss: 0.1002 - val_accuracy: 0.9695\n",
      "Epoch 24/30\n",
      "60000/60000 [==============================] - 2s 39us/sample - loss: 0.0739 - accuracy: 0.9784 - val_loss: 0.0953 - val_accuracy: 0.9697\n",
      "Epoch 25/30\n",
      "60000/60000 [==============================] - 2s 36us/sample - loss: 0.0704 - accuracy: 0.9799 - val_loss: 0.0955 - val_accuracy: 0.9706\n",
      "Epoch 26/30\n",
      "60000/60000 [==============================] - 2s 36us/sample - loss: 0.0675 - accuracy: 0.9809 - val_loss: 0.0961 - val_accuracy: 0.9694\n",
      "Epoch 27/30\n",
      "60000/60000 [==============================] - 2s 37us/sample - loss: 0.0649 - accuracy: 0.9811 - val_loss: 0.0921 - val_accuracy: 0.9712\n",
      "Epoch 28/30\n",
      "60000/60000 [==============================] - 2s 37us/sample - loss: 0.0621 - accuracy: 0.9824 - val_loss: 0.0901 - val_accuracy: 0.9718\n",
      "Epoch 29/30\n",
      "60000/60000 [==============================] - 2s 36us/sample - loss: 0.0599 - accuracy: 0.9830 - val_loss: 0.0882 - val_accuracy: 0.9721\n",
      "Epoch 30/30\n",
      "60000/60000 [==============================] - 2s 36us/sample - loss: 0.0576 - accuracy: 0.9839 - val_loss: 0.0871 - val_accuracy: 0.9735\n"
     ]
    },
    {
     "data": {
      "text/plain": [
       "<tensorflow.python.keras.callbacks.History at 0x13ef84b70>"
      ]
     },
     "execution_count": 26,
     "metadata": {},
     "output_type": "execute_result"
    }
   ],
   "source": [
    "glorot_model.compile(loss='categorical_crossentropy', optimizer='sgd', metrics=['accuracy'])\n",
    "glorot_model.fit(x_train, Y_train,\n",
    "                 batch_size=64, nb_epoch=30, verbose=1, validation_data=(x_test, Y_test))"
   ]
  }
 ],
 "metadata": {
  "kernelspec": {
   "display_name": "Python 3",
   "language": "python",
   "name": "python3"
  },
  "language_info": {
   "codemirror_mode": {
    "name": "ipython",
    "version": 3
   },
   "file_extension": ".py",
   "mimetype": "text/x-python",
   "name": "python",
   "nbconvert_exporter": "python",
   "pygments_lexer": "ipython3",
   "version": "3.7.0"
  }
 },
 "nbformat": 4,
 "nbformat_minor": 2
}
